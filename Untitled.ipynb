{
 "cells": [
  {
   "cell_type": "markdown",
   "id": "f883633f",
   "metadata": {},
   "source": [
    "# write a program to print the even numbers in the given range and in a single line"
   ]
  },
  {
   "cell_type": "code",
   "execution_count": 1,
   "id": "ec4fd0cb",
   "metadata": {},
   "outputs": [
    {
     "name": "stdout",
     "output_type": "stream",
     "text": [
      "enter the first number10\n",
      "enter the last number20\n",
      "12 14 16 18 20 "
     ]
    }
   ],
   "source": [
    "firstnumber=int(input('enter the first number'))\n",
    "lastnumber=int(input(\"enter the last number\"))\n",
    "\n",
    "while firstnumber < lastnumber:\n",
    "    firstnumber=firstnumber+1\n",
    "    if firstnumber % 2==0:\n",
    "        print(firstnumber, end=' ')\n",
    "        \n"
   ]
  },
  {
   "cell_type": "markdown",
   "id": "8fda2437",
   "metadata": {},
   "source": [
    "# print the above program down the line"
   ]
  },
  {
   "cell_type": "code",
   "execution_count": 2,
   "id": "8ffb7465",
   "metadata": {},
   "outputs": [
    {
     "name": "stdout",
     "output_type": "stream",
     "text": [
      "enter the first number20\n",
      "enter the last number50\n",
      "22\n",
      "24\n",
      "26\n",
      "28\n",
      "30\n",
      "32\n",
      "34\n",
      "36\n",
      "38\n",
      "40\n",
      "42\n",
      "44\n",
      "46\n",
      "48\n",
      "50\n"
     ]
    }
   ],
   "source": [
    "firstnumber=int(input('enter the first number'))\n",
    "lastnumber=int(input(\"enter the last number\"))\n",
    "\n",
    "while firstnumber < lastnumber:\n",
    "    firstnumber=firstnumber+1\n",
    "    if firstnumber % 2==0:\n",
    "        print(firstnumber)\n",
    "        \n"
   ]
  },
  {
   "cell_type": "markdown",
   "id": "fef2db2c",
   "metadata": {},
   "source": [
    "# print the factorial of a number "
   ]
  },
  {
   "cell_type": "code",
   "execution_count": null,
   "id": "708101d9",
   "metadata": {},
   "outputs": [],
   "source": [
    "int(input(prompt=\"enter the your desired number\"))\n",
    "i\n"
   ]
  },
  {
   "cell_type": "code",
   "execution_count": 3,
   "id": "26c052a2",
   "metadata": {},
   "outputs": [
    {
     "name": "stdout",
     "output_type": "stream",
     "text": [
      "kindly enter the number10\n",
      "55\n"
     ]
    }
   ],
   "source": [
    "number=int(input(\"kindly enter the number\"))\n",
    "i=0\n",
    "j=0\n",
    "while i <=number:\n",
    "    j=j+i\n",
    "    i=i+1\n",
    "print(j)\n",
    "    "
   ]
  },
  {
   "cell_type": "code",
   "execution_count": 2,
   "id": "07a2a0d8",
   "metadata": {},
   "outputs": [
    {
     "name": "stdout",
     "output_type": "stream",
     "text": [
      "Hello Loops!\n",
      "Hello Loops!\n",
      "Hello Loops!\n",
      "Hello Loops!\n",
      "Hello Loops!\n"
     ]
    }
   ],
   "source": [
    "i=0\n",
    "while i < 5:\n",
    "    print(\"Hello Loops!\")\n",
    "    i=i+1"
   ]
  },
  {
   "cell_type": "code",
   "execution_count": null,
   "id": "2eecb526",
   "metadata": {},
   "outputs": [],
   "source": []
  }
 ],
 "metadata": {
  "kernelspec": {
   "display_name": "Python 3",
   "language": "python",
   "name": "python3"
  },
  "language_info": {
   "codemirror_mode": {
    "name": "ipython",
    "version": 3
   },
   "file_extension": ".py",
   "mimetype": "text/x-python",
   "name": "python",
   "nbconvert_exporter": "python",
   "pygments_lexer": "ipython3",
   "version": "3.8.8"
  }
 },
 "nbformat": 4,
 "nbformat_minor": 5
}
